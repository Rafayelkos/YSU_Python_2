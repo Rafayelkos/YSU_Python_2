{
 "cells": [
  {
   "cell_type": "markdown",
   "metadata": {},
   "source": [
    "# *Problem_1"
   ]
  },
  {
   "cell_type": "code",
   "execution_count": 1,
   "metadata": {},
   "outputs": [
    {
     "name": "stderr",
     "output_type": "stream",
     "text": [
      "Using Armenia server backend.\n"
     ]
    }
   ],
   "source": [
    "import translators as ts\n",
    "from playsound import playsound\n",
    "import gtts\n",
    "from abc import ABC, abstractmethod"
   ]
  },
  {
   "cell_type": "code",
   "execution_count": 2,
   "metadata": {},
   "outputs": [],
   "source": [
    "class Target(ABC):\n",
    "    def __init__(self):\n",
    "        self._phrase = None\n",
    "\n",
    "    @abstractmethod\n",
    "    def request(self):\n",
    "        pass\n",
    "\n",
    "    def set_phrase(self, phrase):\n",
    "        self._phrase = phrase "
   ]
  },
  {
   "cell_type": "code",
   "execution_count": 3,
   "metadata": {},
   "outputs": [],
   "source": [
    "class Adapter(Target):\n",
    "    def __init__(self, phrase):\n",
    "        self.set_phrase(phrase)\n",
    " \n",
    "    def request(self):\n",
    "\n",
    "        translation = ts.google(self._phrase, from_language=  'en', to_language =\"es\")\n",
    "        tts = gtts.gTTS(translation, lang='es')\n",
    "        tts.save('translation.mp3')\n",
    "        print (translation) \n",
    "        return  playsound('translation.mp3')"
   ]
  },
  {
   "cell_type": "code",
   "execution_count": 4,
   "metadata": {},
   "outputs": [],
   "source": [
    "class LanguageInput:\n",
    "\n",
    "    def input_lang(self):\n",
    "        return input('Please input any English text to translate into Spanish') "
   ]
  },
  {
   "cell_type": "code",
   "execution_count": 5,
   "metadata": {},
   "outputs": [
    {
     "name": "stdout",
     "output_type": "stream",
     "text": [
      "Please input any English text to translate into Spanishmy name is Rafayel\n",
      "Mi nombre es rafayel\n"
     ]
    }
   ],
   "source": [
    "obj_1 = LanguageInput()\n",
    "english_text = obj_1.input_lang()\n",
    "adapter = Adapter(english_text).request()"
   ]
  },
  {
   "cell_type": "markdown",
   "metadata": {},
   "source": [
    "# Problem_3"
   ]
  },
  {
   "cell_type": "code",
   "execution_count": 152,
   "metadata": {},
   "outputs": [],
   "source": [
    "class Laptop:\n",
    "  \n",
    "    __shared_state = dict()\n",
    "    \n",
    "    def __init__(self):\n",
    "        self.laptop = 'No laptop available'\n",
    "        self.__dict__ = self.__shared_state\n",
    "        self.state = 'free'"
   ]
  },
  {
   "cell_type": "code",
   "execution_count": 172,
   "metadata": {},
   "outputs": [],
   "source": [
    "class Application(Laptop):\n",
    "    \n",
    "    def __init__(self):\n",
    "        self.laptop = Laptop()\n",
    "    \n",
    "    def request_laptop(self, user):\n",
    "        if self.laptop.state == 'free':\n",
    "            self.laptop.state = 'busy'\n",
    "            user.laptop = self.laptop\n",
    "        else:\n",
    "            user.laptop = 'No laptop available' \n",
    "        \n",
    "    def return_laptop(self, user):\n",
    "        self.laptop.state = 'free'\n",
    "        user.laptop = 'No laptop available' "
   ]
  },
  {
   "cell_type": "code",
   "execution_count": 173,
   "metadata": {},
   "outputs": [
    {
     "data": {
      "text/plain": [
       "{'state': 'free', 'laptop': <__main__.Laptop at 0x21149489d48>}"
      ]
     },
     "execution_count": 173,
     "metadata": {},
     "output_type": "execute_result"
    }
   ],
   "source": [
    "y = Laptop()\n",
    "y.__dict__"
   ]
  },
  {
   "cell_type": "code",
   "execution_count": 174,
   "metadata": {},
   "outputs": [],
   "source": [
    "user1 = Laptop()\n",
    "app = Application()\n",
    "app.request_laptop(user1)"
   ]
  },
  {
   "cell_type": "code",
   "execution_count": 175,
   "metadata": {},
   "outputs": [
    {
     "data": {
      "text/plain": [
       "(<__main__.Laptop at 0x211494a2b08>, 'busy')"
      ]
     },
     "execution_count": 175,
     "metadata": {},
     "output_type": "execute_result"
    }
   ],
   "source": [
    "user1.laptop, user1.laptop.state"
   ]
  },
  {
   "cell_type": "code",
   "execution_count": 182,
   "metadata": {},
   "outputs": [],
   "source": [
    "user2 = Laptop()\n",
    "app.request_laptop(user2)"
   ]
  },
  {
   "cell_type": "code",
   "execution_count": 186,
   "metadata": {},
   "outputs": [
    {
     "data": {
      "text/plain": [
       "<__main__.Laptop at 0x211494a2b08>"
      ]
     },
     "execution_count": 186,
     "metadata": {},
     "output_type": "execute_result"
    }
   ],
   "source": [
    "user2.laptop"
   ]
  },
  {
   "cell_type": "code",
   "execution_count": 187,
   "metadata": {},
   "outputs": [],
   "source": [
    "app.return_laptop(user1)"
   ]
  },
  {
   "cell_type": "code",
   "execution_count": 188,
   "metadata": {},
   "outputs": [],
   "source": [
    "user3 = Laptop()\n",
    "app.request_laptop(user3)"
   ]
  },
  {
   "cell_type": "code",
   "execution_count": 189,
   "metadata": {},
   "outputs": [
    {
     "data": {
      "text/plain": [
       "(<__main__.Laptop at 0x211494a2b08>, 'busy')"
      ]
     },
     "execution_count": 189,
     "metadata": {},
     "output_type": "execute_result"
    }
   ],
   "source": [
    "user3.laptop, user3.laptop.state"
   ]
  }
 ],
 "metadata": {
  "kernelspec": {
   "display_name": "Python 3",
   "language": "python",
   "name": "python3"
  },
  "language_info": {
   "codemirror_mode": {
    "name": "ipython",
    "version": 3
   },
   "file_extension": ".py",
   "mimetype": "text/x-python",
   "name": "python",
   "nbconvert_exporter": "python",
   "pygments_lexer": "ipython3",
   "version": "3.7.6"
  }
 },
 "nbformat": 4,
 "nbformat_minor": 4
}
