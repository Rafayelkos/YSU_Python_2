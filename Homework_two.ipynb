{
 "cells": [
  {
   "cell_type": "raw",
   "metadata": {},
   "source": [
    "# Problem 1: Տրված է, որ յուրաքանչյուր BankAccount տիպի օբյեկտ ունի հետևյալ attribute-ները՝ id,\n",
    "balance և rat։. Գործածեք builder pattern և ձեր ընտրությամբ ցանկացած class-ներ ու\n",
    "method-ներ, որոնք հարկավոր կլինեն BankAccount տիպի օգյեկտի ստեղծման համար։.\n",
    "Ստեղծեք օբյեկտներ ու կատարեք գործողություններ ձեր class-երի աշխատանքը փորձարկելու\n",
    "համա։\n"
   ]
  },
  {
   "cell_type": "code",
   "execution_count": 26,
   "metadata": {},
   "outputs": [],
   "source": [
    "from abc import ABC, abstractmethod\n",
    "import copy"
   ]
  },
  {
   "cell_type": "code",
   "execution_count": 14,
   "metadata": {},
   "outputs": [],
   "source": [
    "class Builder(ABC):\n",
    "    \n",
    "    @abstractmethod\n",
    "    def create_id(self, id):\n",
    "        pass\n",
    "    \n",
    "    def create_name(self, name):\n",
    "        pass\n",
    "    \n",
    "    \n",
    "    def create_surname(self,surname):\n",
    "        pass\n",
    "    \n",
    "    \n",
    "    def create_passport_number(self, num):\n",
    "        pass\n",
    "    \n",
    "    \n",
    "    def create_company_name(self,cname):\n",
    "        pass\n",
    "    \n",
    "    \n",
    "    def create_company_TIN(self, tin):\n",
    "        pass\n",
    "    \n",
    "    @abstractmethod\n",
    "    def create_balance(self, balance):\n",
    "        pass\n",
    "    \n",
    "    @abstractmethod\n",
    "    def create_rate(self,rate):\n",
    "        pass\n",
    "    \n",
    "    \n",
    "    def describe_atributes(self):\n",
    "        pass\n",
    "    \n",
    "    "
   ]
  },
  {
   "cell_type": "code",
   "execution_count": 15,
   "metadata": {},
   "outputs": [],
   "source": [
    "class BankAccount():\n",
    "    def __init__(self):\n",
    "        self.attr = {}\n",
    "        \n",
    "        \n",
    "    def add(self, key, value):\n",
    "        self.attr[key] = value\n",
    "    \n",
    "    \n",
    "        \n",
    "    def update(self, key, value):\n",
    "        self.attr.update({key:value})\n",
    "    \n",
    "    def describe(self):\n",
    "        \n",
    "        for key, value in self.attr.items():\n",
    "            print(key, '--->', value)\n",
    "            \n",
    "    "
   ]
  },
  {
   "cell_type": "code",
   "execution_count": 16,
   "metadata": {},
   "outputs": [],
   "source": [
    "class IndividualAccount(Builder):\n",
    "    \n",
    "    def __init__(self):\n",
    "        \n",
    "        self.account = BankAccount()\n",
    "        \n",
    "    def create_id(self, id):\n",
    "        self.account.add('ID', id)\n",
    "        \n",
    "    def create_name(self, name):\n",
    "        self.account.add('Name', name) \n",
    "        \n",
    "    def create_surname(self, surname):\n",
    "        self.account.add('Surname', surname)\n",
    "    \n",
    "    def create_passport_number(self, num):\n",
    "        self.account.add('Passport number', num)\n",
    "        \n",
    "    def create_balance(self, balance):\n",
    "        self.account.add('Balance', balance)\n",
    "        \n",
    "    def create_rate(self,rate):\n",
    "        self.account.add('Rate', rate)\n",
    "        \n",
    "    def update_id(self, id):\n",
    "        self.account.update('ID', id)\n",
    "        \n",
    "    def update_name(self, name):\n",
    "        self.account.update('Name', name) \n",
    "        \n",
    "    def update_surname(self, surname):\n",
    "        self.account.update('Surname', surname)\n",
    "    \n",
    "    def update_passport_number(self, num):\n",
    "        self.account.update('Passport number', num)\n",
    "        \n",
    "    def update_balance(self, balance):\n",
    "        self.account.update('Balance', balance)\n",
    "        \n",
    "    def update_rate(self,rate):\n",
    "        self.account.update('Rate', rate)    \n",
    "        \n",
    "    def describe_atributes(self):\n",
    "        self.account.describe()\n",
    "        \n",
    "        \n"
   ]
  },
  {
   "cell_type": "code",
   "execution_count": 17,
   "metadata": {},
   "outputs": [],
   "source": [
    "class CompanyAccount(Builder):\n",
    "    \n",
    "    def __init__(self):\n",
    "        \n",
    "        self.account = BankAccount()\n",
    "    \n",
    "    def create_id(self, id):\n",
    "        self.account.add('ID', id)\n",
    "        \n",
    "   \n",
    "    def create_company_name(self,cname):\n",
    "        self.account.add('Company name', cname)    \n",
    "    \n",
    "    def create_company_TIN(self, tin):\n",
    "         self.account.add('TIN', tin)\n",
    "    \n",
    "    def create_balance(self, balance):\n",
    "        self.account.add('Balance', balance)\n",
    "    \n",
    "    def create_rate(self,rate):\n",
    "        self.account.add('Rate', rate)\n",
    "        \n",
    "    def create_id(self, id):\n",
    "        self.account.add('ID', id)\n",
    "        \n",
    "   \n",
    "    def update_company_name(self,cname):\n",
    "        self.account.update('Company name', cname)    \n",
    "    \n",
    "    def update_company_TIN(self, tin):\n",
    "         self.account.update('TIN', tin)\n",
    "    \n",
    "    def update_balance(self, balance):\n",
    "        self.account.update('Balance', balance)\n",
    "    \n",
    "    def update_rate(self,rate):\n",
    "        self.account.update('Rate', rate)\n",
    "    \n",
    "   \n",
    "    def describe_atributes(self):\n",
    "        self.account.describe()"
   ]
  },
  {
   "cell_type": "code",
   "execution_count": 18,
   "metadata": {},
   "outputs": [
    {
     "name": "stdout",
     "output_type": "stream",
     "text": [
      "ID ---> 12345\n",
      "Balance ---> 100000000.0\n",
      "Rate ---> 3.6\n",
      "Name ---> Rafayel\n",
      "Surname ---> Kosyan\n",
      "Passport number ---> 005786454\n"
     ]
    }
   ],
   "source": [
    "builder = IndividualAccount()\n",
    "builder.create_id(12345)\n",
    "builder.create_balance(100000000.0)\n",
    "builder.create_rate(3.6)\n",
    "builder.create_name('Rafayel')\n",
    "builder.create_surname('Kosyan')\n",
    "builder.create_passport_number('005786454')\n",
    "builder.describe_atributes()"
   ]
  },
  {
   "cell_type": "code",
   "execution_count": 19,
   "metadata": {},
   "outputs": [
    {
     "name": "stdout",
     "output_type": "stream",
     "text": [
      "ID ---> 4555\n",
      "Balance ---> 50800000000\n",
      "Rate ---> 3.6\n",
      "Name ---> Rafayel\n",
      "Surname ---> Kosyan\n",
      "Passport number ---> 005786454\n"
     ]
    }
   ],
   "source": [
    "builder.update_id(4555)\n",
    "builder.update_balance(50800000000)\n",
    "builder.describe_atributes()"
   ]
  },
  {
   "cell_type": "code",
   "execution_count": 20,
   "metadata": {},
   "outputs": [
    {
     "name": "stdout",
     "output_type": "stream",
     "text": [
      "Company name ---> STdeviation LLC\n",
      "TIN ---> 90218219281\n",
      "Balance ---> 907000000000\n",
      "Rate ---> 2%\n"
     ]
    }
   ],
   "source": [
    "builder2 = CompanyAccount()\n",
    "builder2.create_company_name('STdeviation LLC')\n",
    "builder2.create_company_TIN('90218219281')\n",
    "builder2.create_balance(907000000000)\n",
    "builder2.create_rate('2%')\n",
    "builder2.describe_atributes()"
   ]
  },
  {
   "cell_type": "code",
   "execution_count": 21,
   "metadata": {},
   "outputs": [
    {
     "name": "stdout",
     "output_type": "stream",
     "text": [
      "Company name ---> STdeviation LLC\n",
      "TIN ---> 90218219281\n",
      "Balance ---> 907000000000\n",
      "Rate ---> 1.5%\n"
     ]
    }
   ],
   "source": [
    "builder2.update_rate('1.5%')\n",
    "builder2.describe_atributes()"
   ]
  },
  {
   "cell_type": "markdown",
   "metadata": {},
   "source": [
    "Problem 2\n",
    "Գործածեք prototype design pattern և ձեր ընտրությամբ ցանկացած class-ներ ու\n",
    "method-ներ։ Ստեղծեք Shape abstract class-ը և կոնկրետ class-ներ, որոնք extend են անում\n",
    "Shape class-ը՝ Circle, Square և Rectangle. Ստեղծեք ShapeCache class-ը, որը կպահի shape\n",
    "տիպի օբյեկտներ dictionary-ի մեջ և կվերադարձնի դրանց clone-երը երբ հարկավոր է։\n",
    "Ստեղծեք օբյեկտներ ու կատարեք գործողություններ ձեր class-երի աշխատանքը\n",
    "փորձարկելու համար։"
   ]
  },
  {
   "cell_type": "code",
   "execution_count": 81,
   "metadata": {},
   "outputs": [
    {
     "name": "stdout",
     "output_type": "stream",
     "text": [
      "Circle\n",
      "Drawing a circle...\n",
      "1\n",
      "<__main__.Circle object at 0x000001C447CBB088>\n"
     ]
    }
   ],
   "source": [
    "class Shape(ABC):\n",
    "    \n",
    "    \n",
    "    def __init__(self):\n",
    "        self.id = None\n",
    "        self.type = None\n",
    "        \n",
    "    @abstractmethod\n",
    "    def draw(self):\n",
    "        pass\n",
    "    \n",
    "    def get_type(self):\n",
    "        return self.type\n",
    "    \n",
    "    def set_type(self, _type):\n",
    "        self.type = _type\n",
    "        \n",
    "    def get_id(self):\n",
    "        return self.id\n",
    "        \n",
    "    def set_id(self, _id):\n",
    "        self.id = _id\n",
    "        \n",
    "    def clone(self):\n",
    "       \n",
    "        return copy.copy(self)\n",
    "    \n",
    "class Circle(Shape):\n",
    "    \n",
    "    def __init__(self):\n",
    "        super().__init__()\n",
    "        self.set_type('Circle')\n",
    "        \n",
    "    def draw(self):\n",
    "        \n",
    "        return 'Drawing a circle...'\n",
    "        \n",
    "class Square(Shape):\n",
    "    def __init__(self):\n",
    "        \n",
    "        super().__init__()\n",
    "        self.set_type('Square')\n",
    "  \n",
    "    def draw(self):\n",
    "        print('Drawing a square...') \n",
    "        \n",
    "class Rectangle(Shape):\n",
    "    \n",
    "    def __init__(self):\n",
    "        \n",
    "        super().__init__()\n",
    "        self.set_type('Rectangle')\n",
    "        \n",
    "    def draw():\n",
    "        print('Drawing a rectangle...')\n",
    "        \n",
    "class ShapeCache:\n",
    "    \n",
    "    cache ={}\n",
    "    \n",
    "    @classmethod\n",
    "    def get(cls,_id):\n",
    "        \n",
    "        shape = cls.cache.get(_id)\n",
    "        return shape.clone()\n",
    "    \n",
    "    \n",
    "    @classmethod\n",
    "    def load(cls,id_1):\n",
    "        if id_1 ==1:\n",
    "            circle  = Circle()\n",
    "            circle.set_id(id_1)\n",
    "            cls.cache[circle.get_id()] = circle\n",
    "        elif id_1 ==2:\n",
    "            square = Square()\n",
    "            square.set_id(id_1)\n",
    "            cls.cache[square.get_id()] = square\n",
    "        elif id_1 ==3:\n",
    "            rectangle = Rectangle()\n",
    "            rectangle.set_id(id_1)\n",
    "            cls.cache[rectangle.get_id()] = rectangle\n",
    "        \n",
    "        \n",
    "        \n",
    "ShapeCache.load(1)\n",
    "\n",
    "my_obj = ShapeCache.get(1)\n",
    "print(my_obj.get_type())\n",
    "print(my_obj.draw())\n",
    "print(my_obj.get_id())\n",
    "print(my_obj.clone())\n",
    "\n",
    "\n",
    "        \n",
    "        \n",
    "        \n",
    "\n",
    "        \n",
    "        \n",
    "        \n",
    "        \n",
    "        "
   ]
  },
  {
   "cell_type": "code",
   "execution_count": null,
   "metadata": {},
   "outputs": [],
   "source": []
  },
  {
   "cell_type": "code",
   "execution_count": null,
   "metadata": {},
   "outputs": [],
   "source": []
  },
  {
   "cell_type": "code",
   "execution_count": null,
   "metadata": {},
   "outputs": [],
   "source": []
  },
  {
   "cell_type": "code",
   "execution_count": null,
   "metadata": {},
   "outputs": [],
   "source": []
  },
  {
   "cell_type": "code",
   "execution_count": null,
   "metadata": {},
   "outputs": [],
   "source": []
  }
 ],
 "metadata": {
  "kernelspec": {
   "display_name": "Python 3",
   "language": "python",
   "name": "python3"
  },
  "language_info": {
   "codemirror_mode": {
    "name": "ipython",
    "version": 3
   },
   "file_extension": ".py",
   "mimetype": "text/x-python",
   "name": "python",
   "nbconvert_exporter": "python",
   "pygments_lexer": "ipython3",
   "version": "3.7.6"
  }
 },
 "nbformat": 4,
 "nbformat_minor": 4
}
