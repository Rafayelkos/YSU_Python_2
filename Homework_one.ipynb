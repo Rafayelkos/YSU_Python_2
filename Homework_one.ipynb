{
 "cells": [
  {
   "cell_type": "markdown",
   "metadata": {},
   "source": [
    "Problem _1"
   ]
  },
  {
   "cell_type": "code",
   "execution_count": 1,
   "metadata": {},
   "outputs": [],
   "source": [
    "from abc import ABC, abstractmethod"
   ]
  },
  {
   "cell_type": "code",
   "execution_count": 2,
   "metadata": {},
   "outputs": [],
   "source": [
    "class Shape(ABC):\n",
    "    def draw():\n",
    "        pass"
   ]
  },
  {
   "cell_type": "code",
   "execution_count": 3,
   "metadata": {},
   "outputs": [],
   "source": [
    "class Circle(Shape):\n",
    "    def __init__(self):\n",
    "        self.circle = \"Drawing circel\"\n",
    "    def draw(self):\n",
    "        return f' please draw circle'"
   ]
  },
  {
   "cell_type": "code",
   "execution_count": 4,
   "metadata": {},
   "outputs": [],
   "source": [
    "class Square(Shape):\n",
    "    def __init__(self):\n",
    "        self.circle = \"Drawing square\"\n",
    "    def draw(self):\n",
    "        return f' please draw square'"
   ]
  },
  {
   "cell_type": "code",
   "execution_count": 5,
   "metadata": {},
   "outputs": [],
   "source": [
    "class Triangle(Shape):\n",
    "    def __init__(self):\n",
    "        self.circle = \"Drawing triangle\"     \n",
    "    def draw(self):\n",
    "        return f' please draw triangle'"
   ]
  },
  {
   "cell_type": "code",
   "execution_count": 6,
   "metadata": {},
   "outputs": [],
   "source": [
    "class Factory:\n",
    "        \n",
    "    SHAPES = {\n",
    "        'circle': Circle(),\n",
    "        'square': Square(),\n",
    "        'triangle': Triangle(),\n",
    "    }\n",
    "    \n",
    "    @staticmethod\n",
    "    def draw_shape(shape):\n",
    "        return Factory().SHAPES[shape]\n",
    "    \n",
    "   "
   ]
  },
  {
   "cell_type": "code",
   "execution_count": 7,
   "metadata": {},
   "outputs": [
    {
     "name": "stdout",
     "output_type": "stream",
     "text": [
      "circle\n"
     ]
    },
    {
     "data": {
      "text/plain": [
       "' please draw circle'"
      ]
     },
     "execution_count": 7,
     "metadata": {},
     "output_type": "execute_result"
    }
   ],
   "source": [
    "arg = input()\n",
    "obj_1 = Factory().draw_shape(arg)\n",
    "obj_1.draw()"
   ]
  },
  {
   "cell_type": "markdown",
   "metadata": {},
   "source": [
    "Problem_2"
   ]
  },
  {
   "cell_type": "code",
   "execution_count": 8,
   "metadata": {},
   "outputs": [],
   "source": [
    "class BankAccount(ABC):\n",
    "    def Creataccount():\n",
    "        pass\n",
    "    \n",
    "        "
   ]
  },
  {
   "cell_type": "code",
   "execution_count": 9,
   "metadata": {},
   "outputs": [],
   "source": [
    "class PersonalAccout(BankAccount):\n",
    "    def Createaccount(self, name, surname, number):\n",
    "        return f'{name}, {surname}, {number}-is your Personal account'\n",
    "    "
   ]
  },
  {
   "cell_type": "code",
   "execution_count": 10,
   "metadata": {},
   "outputs": [],
   "source": [
    "class BusinessAccout(BankAccount):\n",
    "    \n",
    "    def Createaccount(self, name, surname, number):\n",
    "        return f'{name}, {surname}, {number}-is your Businsess account'"
   ]
  },
  {
   "cell_type": "code",
   "execution_count": 16,
   "metadata": {},
   "outputs": [],
   "source": [
    "class BankAccountFactory:\n",
    "    \n",
    "    Accounts = {'personal': PersonalAccout(),\n",
    "               'business': BusinessAccout()}\n",
    "    @staticmethod\n",
    "    def accounts(msg):\n",
    "        return BankAccountFactory().Accounts[msg]"
   ]
  },
  {
   "cell_type": "code",
   "execution_count": 17,
   "metadata": {},
   "outputs": [
    {
     "name": "stdout",
     "output_type": "stream",
     "text": [
      "Write which kind of account u want: personal or businesspersonal\n"
     ]
    },
    {
     "data": {
      "text/plain": [
       "'Rafayel, Kosyan, 78984-is your Personal account'"
      ]
     },
     "execution_count": 17,
     "metadata": {},
     "output_type": "execute_result"
    }
   ],
   "source": [
    "arg = input('Write which kind of account u want: personal or business')\n",
    "obj_2 = BankAccountFactory().accounts(arg)\n",
    "obj_2.Createaccount('Rafayel','Kosyan',78984)\n",
    "    "
   ]
  }
 ],
 "metadata": {
  "kernelspec": {
   "display_name": "Python 3",
   "language": "python",
   "name": "python3"
  },
  "language_info": {
   "codemirror_mode": {
    "name": "ipython",
    "version": 3
   },
   "file_extension": ".py",
   "mimetype": "text/x-python",
   "name": "python",
   "nbconvert_exporter": "python",
   "pygments_lexer": "ipython3",
   "version": "3.7.6"
  }
 },
 "nbformat": 4,
 "nbformat_minor": 4
}
