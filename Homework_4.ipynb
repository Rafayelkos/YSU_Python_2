{
 "cells": [
  {
   "cell_type": "markdown",
   "metadata": {},
   "source": [
    "# # Problem 1 \n",
    "```Let say you want to send a message to someone. You have 2 options - you can Email the message or SMS the message to the corresponding person. So, you have two options to send the message and the client side code will use one of the implementations to send the message to the corresponding person. Use Bridge Design Pattern to implement the logic with classes of your choice and make sure to test the implementation with some concrete objects.```"
   ]
  },
  {
   "cell_type": "code",
   "execution_count": 5,
   "metadata": {},
   "outputs": [],
   "source": [
    "from abc import ABC, abstractmethod"
   ]
  },
  {
   "cell_type": "code",
   "execution_count": 11,
   "metadata": {},
   "outputs": [],
   "source": [
    "class Sender(ABC):\n",
    "    @abstractmethod\n",
    "    def send(self, text):\n",
    "        pass"
   ]
  },
  {
   "cell_type": "code",
   "execution_count": 36,
   "metadata": {},
   "outputs": [],
   "source": [
    "class EmailSender(Sender):\n",
    "    \n",
    "    def send(self,text,email):\n",
    "        print(f'Sending Email','\\n',f'To E-MAIL: {email}','\\n',f'{text}')"
   ]
  },
  {
   "cell_type": "code",
   "execution_count": 37,
   "metadata": {},
   "outputs": [],
   "source": [
    "class SMSSender(Sender):\n",
    "    \n",
    "    def send(self, text, num):\n",
    "        print(f'Sending SMS','\\n',f'To NUMBER: {num}','\\n',f'{text}')"
   ]
  },
  {
   "cell_type": "code",
   "execution_count": 38,
   "metadata": {},
   "outputs": [],
   "source": [
    "class Client:\n",
    "    \n",
    "    def __init__(self, sender):\n",
    "        self.sender = sender\n",
    "        \n",
    "    def send_message(self, text, address):\n",
    "        self.sender.send(text,address)"
   ]
  },
  {
   "cell_type": "code",
   "execution_count": 39,
   "metadata": {},
   "outputs": [
    {
     "name": "stdout",
     "output_type": "stream",
     "text": [
      "Sending Email \n",
      " To E-MAIL: rafayel.kos@gmail.com \n",
      " Hello\n",
      "Sending SMS \n",
      " To NUMBER: +37441575710 \n",
      " You will stay good Data Scientist\n"
     ]
    }
   ],
   "source": [
    "\n",
    "client1 = Client(EmailSender())\n",
    "client1.send_message('Hello', 'rafayel.kos@gmail.com')\n",
    "\n",
    "client2 = Client(SMSSender())\n",
    "client2.send_message('You will stay good Data Scientist', '+37441575710')"
   ]
  },
  {
   "cell_type": "markdown",
   "metadata": {},
   "source": [
    "# Problem 2\n",
    "```Follow the diagram below and use Composite Design Pattern to implement and test the logic. Add any other classes of your choice. The top of your hierchy will be the box which will contain Instrument Collection which will contain instruments.```"
   ]
  },
  {
   "cell_type": "code",
   "execution_count": 31,
   "metadata": {
    "scrolled": true
   },
   "outputs": [
    {
     "name": "stdout",
     "output_type": "stream",
     "text": [
      "Collection 1\n",
      "\t\tinstrument_type: Pen = 1\n",
      "instrument_type: None = 3\n",
      "\t\tinstrument_type: Pencil = 2\n",
      "instrument_type: None = 1\n",
      "Box\n",
      "\tCollection 1\n",
      "\t\tinstrument_type: Pen = 1\n",
      "instrument_type: None = 3\n",
      "\t\tinstrument_type: Pencil = 2\n",
      "instrument_type: None = 1\n",
      "\tCollection 2\n",
      "\t\tinstrument_type: Pen = 1\n",
      "instrument_type: None = 1\n",
      "\t\tinstrument_type: Rubber = 3\n",
      "instrument_type: None = 1\n"
     ]
    }
   ],
   "source": [
    "class Instrument:\n",
    "    \n",
    "    def __init__(self, instrument_type, quantity):\n",
    "        self.instrument_type = {instrument_type: quantity}\n",
    "        \n",
    "        \n",
    "    def make(self):\n",
    "        print('\\t', end =\"\")\n",
    "        for instr, quant in self.instrument_type.items():\n",
    "            print(f'instrument_type: {instr} = {quant}' )\n",
    "        \n",
    "class InstrumentCollection:\n",
    "    \n",
    "    def __init__(self, collection_id):\n",
    "        self.collection_id = collection_id\n",
    "        self.instruments = {}\n",
    "        \n",
    "    \n",
    "    def add(self, instrument):\n",
    "        if self.instruments.get(instrument) is not None:        \n",
    "            self.instruments[instrument] = self.instruments[instrument]+1\n",
    "        else:\n",
    "              self.instruments[instrument] = 1\n",
    "        \n",
    "    def remove(self, instrument):\n",
    "        if self.instruments.get(instrument) is not None:\n",
    "              self.instruments[instrument] = self.instruments[instrument]-1\n",
    "        else:\n",
    "              self.instruments.pop(instrument)     \n",
    "              \n",
    "              \n",
    "        \n",
    "    def make(self):\n",
    "        print(self.collection_id)\n",
    "        \n",
    "        for instr, quant in self.instruments.items():\n",
    "            print('\\t', end = \"\")\n",
    "            print(f'instrument_type: {instr.make()} = {quant}' )\n",
    "            \n",
    "class Box:\n",
    "    def __init__(self, Instrument_type):\n",
    "        \n",
    "        self.Instrument_type = Instrument_type\n",
    "        self.instrument_collections = []\n",
    "        \n",
    "    def make(self):\n",
    "        print(self.Instrument_type)\n",
    "        \n",
    "        for instrument_c in self.instrument_collections:\n",
    "            print('\\t', end = '')\n",
    "            instrument_c.make()\n",
    "        \n",
    "    \n",
    "    def add(self, instrument_c ):\n",
    "        \n",
    "        self.instrument_collections.append(instrument_c)\n",
    "        \n",
    "    def remove(self, instrument_c):\n",
    "        self.instrument_collections.remove(instrument_c)\n",
    "        \n",
    "        \n",
    "box = Box('Box')\n",
    "col1 = InstrumentCollection('Collection 1')\n",
    "col2 = InstrumentCollection('Collection 2')\n",
    "pen = Instrument('Pen', 1)\n",
    "pencil = Instrument('Pencil',2)\n",
    "rubber = Instrument('Rubber',3)\n",
    "\n",
    "col1.add(pen)\n",
    "col1.add(pencil)\n",
    "col1.add(pen)\n",
    "col1.add(pen)\n",
    "col2.add(pen)\n",
    "col2.add(rubber)\n",
    "\n",
    "box.add(col1)\n",
    "box.add(col2)\n",
    "col1.make()\n",
    "box.make()        \n",
    "        \n",
    "        \n",
    "        \n",
    "    \n",
    "\n",
    "            \n",
    "            \n",
    "            \n",
    "            \n",
    "            \n",
    "            \n",
    "        \n",
    "        \n",
    "        \n",
    "        \n",
    "    \n",
    "    \n",
    "        \n",
    "        \n",
    "        "
   ]
  },
  {
   "cell_type": "code",
   "execution_count": null,
   "metadata": {},
   "outputs": [],
   "source": []
  }
 ],
 "metadata": {
  "kernelspec": {
   "display_name": "Python 3",
   "language": "python",
   "name": "python3"
  },
  "language_info": {
   "codemirror_mode": {
    "name": "ipython",
    "version": 3
   },
   "file_extension": ".py",
   "mimetype": "text/x-python",
   "name": "python",
   "nbconvert_exporter": "python",
   "pygments_lexer": "ipython3",
   "version": "3.7.6"
  }
 },
 "nbformat": 4,
 "nbformat_minor": 4
}
